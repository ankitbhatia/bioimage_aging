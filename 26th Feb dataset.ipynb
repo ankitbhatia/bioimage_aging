{
 "cells": [
  {
   "cell_type": "markdown",
   "metadata": {},
   "source": [
    "1. For fig2C, I need the weights of feature ranking to classify age without Klotho (i.e. without ch4 and ch11). \n",
    "2. For fig2D, rug plot for CD63. Also the mean and variance\n",
    "3. For fig2E, rug plot for cd81. Also the mean and variance\n",
    "4. For fig3G, rug plot for Klotho. In this case, add intensity (your values) columns for alt-kl (ch4) and klotho (ch11) and then plot them. Also send me the mean and variance. \n",
    "5. For fig3I, linear regression based weights for prediction of klotho. Can you send me two sets of analysis here: prediction of only ch11 and prediction of ch4+ch11 \n",
    "6. For fig3J, Correlation between cd82 and klotho. I can make this with the sheet you had sent me. \n",
    "7. For fig3K, the heat map like thing that you suggested where the rows are all features and columns are age and Klotho. I need numbers (weights?) to work with. \n",
    "\n",
    "I think for most analysis, let's consider Klotho intensity to be a sum of alt-kl (ch4) and klotho (ch11). \n",
    "\n",
    "When I checked the link you had shared with me, I realized that at some places (classification of age in particular) you had kept ch4 in the list but removed ch2. So I wasn't sure if I was looking at the right thing. \n",
    "\n",
    "I'd be happy to do this with you at your place (not school) tomorrow or today, whatever is convenient for you. \n"
   ]
  },
  {
   "cell_type": "markdown",
   "metadata": {},
   "source": [
    "## HouseKeeping"
   ]
  },
  {
   "cell_type": "code",
   "execution_count": 19,
   "metadata": {},
   "outputs": [
    {
     "name": "stdout",
     "output_type": "stream",
     "text": [
      "The autoreload extension is already loaded. To reload it, use:\n",
      "  %reload_ext autoreload\n",
      "\u001b[33mDEPRECATION: Python 2.7 reached the end of its life on January 1st, 2020. Please upgrade your Python as Python 2.7 is no longer maintained. A future version of pip will drop support for Python 2.7. More details about Python 2 support in pip, can be found at https://pip.pypa.io/en/latest/development/release-process/#python-2-support\u001b[0m\n",
      "Defaulting to user installation because normal site-packages is not writeable\n",
      "Requirement already satisfied: seaborn in /home/ankitb/.local/lib/python2.7/site-packages (0.9.1)\n",
      "Requirement already satisfied: matplotlib>=1.5.3 in /usr/lib/python2.7/dist-packages (from seaborn) (2.1.1)\n",
      "Requirement already satisfied: pandas>=0.17.1 in /home/ankitb/.local/lib/python2.7/site-packages (from seaborn) (0.24.2)\n",
      "Requirement already satisfied: numpy>=1.10.4 in /usr/lib/python2.7/dist-packages (from seaborn) (1.13.3)\n",
      "Requirement already satisfied: scipy>=0.17.1 in /usr/lib/python2.7/dist-packages (from seaborn) (0.19.1)\n",
      "Requirement already satisfied: python-dateutil>=2.5.0 in /usr/lib/python2.7/dist-packages (from pandas>=0.17.1->seaborn) (2.6.1)\n",
      "Requirement already satisfied: pytz>=2011k in /usr/lib/python2.7/dist-packages (from pandas>=0.17.1->seaborn) (2018.3)\n"
     ]
    }
   ],
   "source": [
    "% load_ext autoreload\n",
    "% autoreload 2\n",
    "import pandas as pd\n",
    "from BioAnalysis import BioAnalysis\n",
    "import numpy as np\n",
    "from tqdm import tqdm, trange\n",
    "import sys\n",
    "from sklearn.tree import DecisionTreeClassifier\n",
    "from sklearn.model_selection import cross_val_score\n",
    "import numpy as np\n",
    "import matplotlib.pyplot as plt\n",
    "import operator \n",
    "from collections import OrderedDict\n",
    "from sklearn.linear_model import RANSACRegressor\n",
    "from sklearn import preprocessing\n",
    "from scipy.stats import fisher_exact\n",
    "from IPython.display import HTML, display\n",
    "import csv\n",
    "import sys\n",
    "!{sys.executable} -m pip install seaborn\n",
    "import seaborn as sns\n",
    "from sklearn.linear_model import LinearRegression\n",
    "np.random.seed(1)"
   ]
  },
  {
   "cell_type": "code",
   "execution_count": 20,
   "metadata": {
    "scrolled": true
   },
   "outputs": [
    {
     "name": "stderr",
     "output_type": "stream",
     "text": [
      "100%|██████████| 13206/13206 [03:12<00:00, 68.65it/s]\n"
     ]
    }
   ],
   "source": [
    "db = pd.read_csv('../Amrita_29feb/features.csv')\n",
    "# lets subtract the bgmean from the intensity\n",
    "\n",
    "columns = list(db.columns)\n",
    "\n",
    "# intensities = [s for s in columns if \"Intensity_MC\" in s]\n",
    "# bkgds = [s for s in columns if \"Bkgd\" in s]\n",
    "\n",
    "# for a,b in zip(intensities, bkgds):  \n",
    "#     db[a] = db[a] - db[b]\n",
    "    \n",
    "analysis = BioAnalysis('../Amrita_29feb/')\n",
    "points = analysis.points\n",
    "\n",
    "\n",
    "filtered = analysis.getFilteredIndices()\n",
    "\n",
    "filtered_db = pd.DataFrame(columns=db.columns)\n",
    "for idx,row in enumerate(tqdm(filtered)):\n",
    "    filtered_db = filtered_db.append(db[(db.Class == int(row[0])) & (db[\"Object Number\"]==int(row[1]))])\n",
    "    filtered_db.iloc[-1, filtered_db.columns.get_loc('Intensity_MC_Ch02')] = points[idx, 0]\n",
    "    filtered_db.iloc[-1, filtered_db.columns.get_loc('Intensity_MC_Ch07')] = points[idx, 1]\n",
    "    filtered_db.iloc[-1, filtered_db.columns.get_loc('Intensity_MC_Ch11')] = points[idx, 2]\n",
    "    try:\n",
    "        filtered_db.iloc[-1, filtered_db.columns.get_loc('Intensity_MC_Ch04')] = points[idx, 3]\n",
    "    except:\n",
    "        pass"
   ]
  },
  {
   "cell_type": "code",
   "execution_count": 3,
   "metadata": {},
   "outputs": [],
   "source": [
    "# Do not run this more than once!"
   ]
  },
  {
   "cell_type": "code",
   "execution_count": 4,
   "metadata": {},
   "outputs": [],
   "source": [
    "filtered_db['Intensity_MC_KL'] = filtered_db['Intensity_MC_Ch11'] + filtered_db['Intensity_MC_Ch04']\n",
    "unfiltered_db = filtered_db\n"
   ]
  },
  {
   "cell_type": "code",
   "execution_count": 5,
   "metadata": {
    "scrolled": false
   },
   "outputs": [
    {
     "name": "stdout",
     "output_type": "stream",
     "text": [
      "['Class', 'Object Number', 'Area_M01', 'Area_M03', 'Area_M04', 'Area_M06', 'Area_M07', 'Area_M09', 'Aspect Ratio_M01', 'Aspect Ratio_M06', 'Aspect Ratio_M09', 'Modulation_M02_Ch02', 'Modulation_M03_Ch03', 'Modulation_M07_Ch07', 'Intensity_MC_Ch02', 'Intensity_MC_Ch07']\n"
     ]
    }
   ],
   "source": [
    "filtered_db = unfiltered_db.loc[:,~unfiltered_db.columns.duplicated()]\n",
    "data = []\n",
    "data.append('Class')\n",
    "data.append('Object Number')\n",
    "data.append('Area_M01')\n",
    "data.append('Area_M02')\n",
    "# data.append('Area_M03')\n",
    "data.append('Area_M04')\n",
    "data.append('Area_M06')\n",
    "data.append('Area_M07')\n",
    "data.append('Area_M09')\n",
    "# data.append('Area_M11')\n",
    "data.append('Aspect Ratio_M01')\n",
    "data.append('Aspect Ratio_M06')\n",
    "data.append('Aspect Ratio_M09')\n",
    "data.append('Modulation_M02_Ch02')\n",
    "data.append('Modulation_M03_Ch03')\n",
    "# data.append('Modulation_M04_Ch04')\n",
    "data.append('Modulation_M07_Ch07')\n",
    "# data.append('Modulation_M11_Ch11')\n",
    "data.append('Intensity_MC_Ch02')\n",
    "# data.append('Intensity_MC_Ch03')\n",
    "# data.append('Intensity_MC_Ch04')\n",
    "data.append('Intensity_MC_Ch07')\n",
    "# data.append('Intensity_MC_Ch11')\n",
    "data\n",
    "filtered_db = unfiltered_db[data]\n",
    "#     if idx%100==0:\n",
    "#         sys.stdout.write(str(idx) + '\\r')\n",
    "#         sys.stdout.flush()\n",
    "print([column for column in filtered_db.columns])"
   ]
  },
  {
   "cell_type": "markdown",
   "metadata": {},
   "source": [
    "## What features can predict age (with and without ch1,6,9)\n",
    "\n",
    "### With All channels"
   ]
  },
  {
   "cell_type": "code",
   "execution_count": 12,
   "metadata": {},
   "outputs": [
    {
     "name": "stdout",
     "output_type": "stream",
     "text": [
      "Feature Importances:\n",
      "Raw Max Pixel_MC_Ch09 0.152\n",
      "Max Pixel_MC_Ch09 0.121\n",
      "Modulation_M04_Ch04 0.120\n",
      "Area_M02 0.085\n",
      "Raw Max Pixel_MC_Ch01 0.062\n",
      "Max Pixel_MC_Ch01 0.048\n",
      "Intensity_MC_Ch02 0.038\n",
      "Median Pixel_M02_Ch02 0.023\n",
      "Raw Min Pixel_MC_Ch07 0.012\n",
      "Max Pixel_MC_Ch04 0.011\n",
      "Cross-validation Score: 0.843100383089\n",
      "Cross-validation Variance: 0.0115856332641\n"
     ]
    },
    {
     "data": {
      "text/plain": [
       "<matplotlib.axes._subplots.AxesSubplot at 0x7f7ee171a110>"
      ]
     },
     "execution_count": 12,
     "metadata": {},
     "output_type": "execute_result"
    },
    {
     "data": {
      "text/plain": [
       "<matplotlib.figure.Figure at 0x7f7ee17eadd0>"
      ]
     },
     "metadata": {},
     "output_type": "display_data"
    },
    {
     "data": {
      "image/png": "[encoded data removed]",
      "text/plain": [
       "<matplotlib.figure.Figure at 0x7f7ee171a8d0>"
      ]
     },
     "metadata": {
      "needs_background": "light"
     },
     "output_type": "display_data"
    }
   ],
   "source": [
    "## new_db = filtered_db\n",
    "#When I was calling this function, it wasn't actually doing anything. No wonder we were getting \n",
    "#such crappy accuracies. \n",
    "new_db = new_db.sample(frac=1)\n",
    "\n",
    "# Create the outputs Class \n",
    "Y = new_db.Class.to_numpy()\n",
    "Y = Y>0 # young =1 old = 0\n",
    "\n",
    "X = new_db.drop(['Class', 'Object Number',], axis=1)\n",
    "X = X.drop([i for i in X.columns if \"Bkgd Mean\" in i] , axis=1)\n",
    "\n",
    "#This should drop nothing. \n",
    "X = X.drop(X.columns[X.isna().any()].tolist(), axis=1)\n",
    "\n",
    "# train a classifier on all the data\n",
    "clf = DecisionTreeClassifier(criterion='entropy')\n",
    "sol = clf.fit(X.to_numpy(),Y.astype('int'))\n",
    "\n",
    "# Print out the feature importances\n",
    "print('Feature Importances:')\n",
    "imp = sol.feature_importances_\n",
    "features = {}\n",
    "for i in range(0,10):\n",
    "    print(X.columns[np.argmax(imp)] + ' ' + '{:0.3f}'.format(np.max(imp)))\n",
    "    features[X.columns[np.argmax(imp)]] = np.max(imp)\n",
    "    imp[np.argmax(imp)] = 0\n",
    "    \n",
    "# Print the crossvalidation score:\n",
    "s = cross_val_score(clf, X.to_numpy(), Y.astype('int'), cv=10, n_jobs=-1)\n",
    "print('Cross-validation Score: ' + str(np.mean(s)))\n",
    "print('Cross-validation Variance: ' + str(np.std(s)))\n",
    "\n",
    "# Plot a graph with all the features\n",
    "sorted_d = OrderedDict(sorted(features.items(), key=lambda x: x[1]))\n",
    "names = list(sorted_d.keys())\n",
    "values = list(sorted_d.values())\n",
    "df = pd.DataFrame(list(zip(values,names))).set_index(1)\n",
    "\n",
    "plt.figure()\n",
    "df.plot.bar()"
   ]
  },
  {
   "cell_type": "markdown",
   "metadata": {},
   "source": [
    "### Without Ch 1, 6, 9"
   ]
  },
  {
   "cell_type": "code",
   "execution_count": 13,
   "metadata": {},
   "outputs": [
    {
     "name": "stdout",
     "output_type": "stream",
     "text": [
      "Feature Importances:\n",
      "Intensity_MC_Ch02 0.230\n",
      "Modulation_M02_Ch02 0.188\n",
      "Intensity_MC_Ch07 0.134\n",
      "Modulation_M07_Ch07 0.130\n",
      "Modulation_M03_Ch03 0.126\n",
      "Area_M03 0.107\n",
      "Area_M07 0.084\n",
      "Area_M03 0.000\n",
      "Area_M03 0.000\n",
      "Area_M03 0.000\n",
      "Cross-validation Score: 0.658568055747\n"
     ]
    },
    {
     "data": {
      "text/plain": [
       "<matplotlib.axes._subplots.AxesSubplot at 0x7f7ee17246d0>"
      ]
     },
     "execution_count": 13,
     "metadata": {},
     "output_type": "execute_result"
    },
    {
     "data": {
      "image/png": "[encoded data removed]",
      "text/plain": [
       "<matplotlib.figure.Figure at 0x7f7ee1ac4090>"
      ]
     },
     "metadata": {
      "needs_background": "light"
     },
     "output_type": "display_data"
    }
   ],
   "source": [
    "new_db = filtered_db\n",
    "#When I was calling this function, it wasn't actually doing anything. No wonder we were getting \n",
    "#such crappy accuracies. \n",
    "new_db = new_db.sample(frac=1)\n",
    "\n",
    "# Create the outputs Class \n",
    "Y = new_db.Class.to_numpy()\n",
    "Y = Y>0 # young =1 old = 0\n",
    "\n",
    "X = new_db.drop(['Class', 'Object Number',], axis=1)\n",
    "X = X.drop([i for i in X.columns if \"Bkgd Mean\" in i] , axis=1)\n",
    "X = X.drop([i for i in X.columns if \"01\" in i] , axis=1)\n",
    "X = X.drop([i for i in X.columns if \"09\" in i] , axis=1)\n",
    "X = X.drop([i for i in X.columns if \"06\" in i] , axis=1)\n",
    "X = X.drop([i for i in X.columns if \"04\" in i] , axis=1)\n",
    "X = X.drop([i for i in X.columns if \"11\" in i] , axis=1)\n",
    "\n",
    "#This should drop nothing. \n",
    "X = X.drop(X.columns[X.isna().any()].tolist(), axis=1)\n",
    "\n",
    "# train a classifier on all the data\n",
    "clf = DecisionTreeClassifier(criterion='entropy')\n",
    "sol = clf.fit(X.to_numpy(),Y.astype('int'))\n",
    "\n",
    "# Print out the feature importances\n",
    "print('Feature Importances:')\n",
    "imp = sol.feature_importances_\n",
    "features = {}\n",
    "for i in range(0,10):\n",
    "    print(X.columns[np.argmax(imp)] + ' ' + '{:0.3f}'.format(np.max(imp)))\n",
    "    features[X.columns[np.argmax(imp)]] = np.max(imp)\n",
    "    imp[np.argmax(imp)] = 0\n",
    "    \n",
    "# Print the crossvalidation score:\n",
    "s = cross_val_score(clf, X.to_numpy(), Y.astype('int'), cv=20, n_jobs=-1)\n",
    "print('Cross-validation Score: ' + str(np.mean(s)))\n",
    "\n",
    "# Plot a graph with all the features\n",
    "sorted_d = OrderedDict(sorted(features.items(), key=lambda x: x[1]))\n",
    "names = list(sorted_d.keys())\n",
    "values = list(sorted_d.values())\n",
    "\n",
    "df = pd.DataFrame(list(zip(values,names))).set_index(1)\n",
    "\n",
    "df.plot.bar()\n"
   ]
  },
  {
   "cell_type": "markdown",
   "metadata": {},
   "source": [
    "## What features predict ch11 and ch4 activation? Both are Klotho but different forms of it. \n",
    "\n",
    "### Ch11"
   ]
  },
  {
   "cell_type": "code",
   "execution_count": 7,
   "metadata": {},
   "outputs": [
    {
     "name": "stdout",
     "output_type": "stream",
     "text": [
      "Feature Importances:\n",
      "Intensity_MC_Ch07 0.003\n",
      "Area_M07 0.002\n",
      "Modulation_M07_Ch07 0.001\n",
      "Aspect Ratio_M01 0.000\n",
      "Area_M06 0.000\n",
      "Area_M06 0.000\n",
      "Area_M06 0.000\n",
      "Area_M06 0.000\n",
      "Area_M06 0.000\n",
      "Area_M06 0.000\n",
      "Cross-validation Score: -4.40480005193e-05\n",
      "Cross-validation Score Var: 2.96374365757e-10\n"
     ]
    },
    {
     "data": {
      "text/plain": [
       "<matplotlib.axes._subplots.AxesSubplot at 0x7f7ee1b99a90>"
      ]
     },
     "execution_count": 7,
     "metadata": {},
     "output_type": "execute_result"
    },
    {
     "data": {
      "image/png": "[encoded data removed]",
      "text/plain": [
       "<matplotlib.figure.Figure at 0x7f7ee1e64810>"
      ]
     },
     "metadata": {
      "needs_background": "light"
     },
     "output_type": "display_data"
    }
   ],
   "source": [
    "new_db = filtered_db\n",
    "#When I was calling this function, it wasn't actually doing anything. No wonder we were getting \n",
    "#such crappy accuracies. \n",
    "new_db = new_db.sample(frac=1)\n",
    "\n",
    "# Create the outputs Class \n",
    "Y = unfiltered_db.Intensity_MC_Ch11.to_numpy()\n",
    "# Y = Y>0 # ch11> = 1, ch11< = 0\n",
    "# print(np.count_nonzero(Y))\n",
    "X = new_db.drop(['Class', 'Object Number',], axis=1)\n",
    "X = X.drop([i for i in X.columns if \"Bkgd Mean\" in i] , axis=1)\n",
    "X = X.drop([i for i in X.columns if \"Aspect Ratio_M02\" in i] , axis=1)\n",
    "X = X.drop([i for i in X.columns if \"09\" in i] , axis=1)\n",
    "# X = X.drop([i for i in X.columns if \"06\" in i] , axis=1)\n",
    "X = X.drop([i for i in X.columns if \"11\" in i] , axis=1)\n",
    "\n",
    "#This should drop nothing. \n",
    "X = X.drop(X.columns[X.isna().any()].tolist(), axis=1)\n",
    "\n",
    "# Min Max scaler to normalize all data:\n",
    "min_max_scaler = preprocessing.MinMaxScaler()\n",
    "x_scaled = min_max_scaler.fit_transform(X.to_numpy())\n",
    "y_scaled = Y/np.linalg.norm(Y)\n",
    "# train a classifier on all the data\n",
    "# clf = DecisionTreeClassifier(criterion='entropy')\n",
    "reg = LinearRegression()\n",
    "sol = reg.fit(x_scaled,y_scaled)\n",
    "\n",
    "# Print out the feature importances\n",
    "print('Feature Importances:')\n",
    "imp = sol.coef_\n",
    "features = {}\n",
    "for i in range(0,10):\n",
    "    print(X.columns[np.argmax(imp)] + ' ' + '{:0.3f}'.format(np.max(imp)))\n",
    "    features[X.columns[np.argmax(imp)]] = np.max(imp)\n",
    "    imp[np.argmax(imp)] = 0\n",
    "    \n",
    "# Print the crossvalidation score:\n",
    "s = cross_val_score(reg, x_scaled, y_scaled, cv=10, n_jobs=-1, scoring='neg_mean_squared_error')\n",
    "print('Cross-validation Score: ' + str(np.mean(s)))\n",
    "print('Cross-validation Score Var: ' + str(np.var(s)))\n",
    "\n",
    "# # Plot a graph with all the features\n",
    "sorted_d = OrderedDict(sorted(features.items(), key=lambda x: x[1]))\n",
    "names = list(sorted_d.keys())\n",
    "values = list(sorted_d.values())\n",
    "\n",
    "df = pd.DataFrame(list(zip(values,names))).set_index(1)\n",
    "\n",
    "df.plot.bar()"
   ]
  },
  {
   "cell_type": "code",
   "execution_count": null,
   "metadata": {},
   "outputs": [],
   "source": []
  },
  {
   "cell_type": "markdown",
   "metadata": {},
   "source": [
    "### Ch04"
   ]
  },
  {
   "cell_type": "code",
   "execution_count": 8,
   "metadata": {},
   "outputs": [
    {
     "name": "stdout",
     "output_type": "stream",
     "text": [
      "Feature Importances:\n",
      "Modulation_M02_Ch02 0.004\n",
      "Area_M03 0.004\n",
      "Intensity_MC_Ch07 0.003\n",
      "Area_M01 0.002\n",
      "Aspect Ratio_M06 0.001\n",
      "Aspect Ratio_M09 0.000\n",
      "Area_M07 0.000\n",
      "Intensity_MC_Ch02 0.000\n",
      "Area_M01 0.000\n",
      "Area_M01 0.000\n",
      "Cross-validation Score: -4.57626005276e-05\n",
      "Cross-validation Score Var: 2.51332692656e-10\n"
     ]
    },
    {
     "data": {
      "text/plain": [
       "<matplotlib.axes._subplots.AxesSubplot at 0x7f7ee1a175d0>"
      ]
     },
     "execution_count": 8,
     "metadata": {},
     "output_type": "execute_result"
    },
    {
     "data": {
      "image/png": "[encoded data removed]",
      "text/plain": [
       "<matplotlib.figure.Figure at 0x7f7ee1b3c710>"
      ]
     },
     "metadata": {
      "needs_background": "light"
     },
     "output_type": "display_data"
    }
   ],
   "source": [
    "new_db = filtered_db\n",
    "#When I was calling this function, it wasn't actually doing anything. No wonder we were getting \n",
    "#such crappy accuracies. \n",
    "new_db = new_db.sample(frac=1)\n",
    "\n",
    "# Create the outputs Class \n",
    "Y = unfiltered_db.Intensity_MC_Ch04.to_numpy()\n",
    "# Y = Y>0 # ch04> = 1, ch04< = 0\n",
    "X = new_db.drop(['Class', 'Object Number',], axis=1)\n",
    "X = X.drop([i for i in X.columns if \"Bkgd Mean\" in i] , axis=1)\n",
    "X = X.drop([i for i in X.columns if \"Ch01\" in i] , axis=1)\n",
    "X = X.drop([i for i in X.columns if \"Ch09\" in i] , axis=1)\n",
    "X = X.drop([i for i in X.columns if \"Ch06\" in i] , axis=1)\n",
    "X = X.drop([i for i in X.columns if \"Ch04\" in i] , axis=1)\n",
    "\n",
    "#This should drop nothing. \n",
    "X = X.drop(X.columns[X.isna().any()].tolist(), axis=1)\n",
    "\n",
    "# # train a classifier on all the data\n",
    "# clf = DecisionTreeClassifier(criterion='entropy')\n",
    "# sol = clf.fit(X.to_numpy(),Y.astype('int'))\n",
    "\n",
    "min_max_scaler = preprocessing.MinMaxScaler()\n",
    "x_scaled = min_max_scaler.fit_transform(X.to_numpy())\n",
    "y_scaled = Y/np.linalg.norm(Y)\n",
    "# Print out the feature importances\n",
    "reg = LinearRegression()\n",
    "sol = reg.fit(x_scaled,y_scaled)\n",
    "# Print out the feature importances\n",
    "print('Feature Importances:')\n",
    "imp = sol.coef_\n",
    "features = {}\n",
    "for i in range(0,10):\n",
    "    print(X.columns[np.argmax(imp)] + ' ' + '{:0.3f}'.format(np.max(imp)))\n",
    "    features[X.columns[np.argmax(imp)]] = np.max(imp)\n",
    "    imp[np.argmax(imp)] = 0\n",
    "    \n",
    "# Print the crossvalidation score:\n",
    "s = cross_val_score(reg, x_scaled, y_scaled,cv=10, n_jobs=-1, scoring='neg_mean_squared_error')\n",
    "print('Cross-validation Score: ' + str(np.mean(s)))\n",
    "print('Cross-validation Score Var: ' + str(np.var(s)))\n",
    "\n",
    "# # Plot a graph with all the features\n",
    "sorted_d = OrderedDict(sorted(features.items(), key=lambda x: x[1]))\n",
    "names = list(sorted_d.keys())\n",
    "values = list(sorted_d.values())\n",
    "# plt.figure()\n",
    "# plt.bar(names, values)\n",
    "# plt.xticks(rotation=90)\n",
    "# plt.show()\n",
    "df = pd.DataFrame(list(zip(values,names))).set_index(1)\n",
    "\n",
    "df.plot.bar()"
   ]
  },
  {
   "cell_type": "markdown",
   "metadata": {},
   "source": [
    "## Correlation between ch7 and ch11. "
   ]
  },
  {
   "cell_type": "code",
   "execution_count": 21,
   "metadata": {},
   "outputs": [
    {
     "data": {
      "image/png": "[encoded data removed]",
      "text/plain": [
       "<matplotlib.figure.Figure at 0x7f7ed87254d0>"
      ]
     },
     "metadata": {
      "needs_background": "light"
     },
     "output_type": "display_data"
    },
    {
     "data": {
      "image/png": "[encoded data removed]",
      "text/plain": [
       "<matplotlib.figure.Figure at 0x7f7ee0036f50>"
      ]
     },
     "metadata": {
      "needs_background": "light"
     },
     "output_type": "display_data"
    },
    {
     "name": "stdout",
     "output_type": "stream",
     "text": [
      "Young Pearson's correlation coefficient\n",
      "[[ 1.        0.436599]\n",
      " [ 0.436599  1.      ]]\n",
      "Old Pearson's correlation coefficient\n",
      "[[ 1.          0.52027704]\n",
      " [ 0.52027704  1.        ]]\n"
     ]
    }
   ],
   "source": [
    "new_db = unfiltered_db\n",
    "plt.figure()\n",
    "young_ch7_intensity = new_db[(new_db.Class ==1)].Intensity_MC_Ch07\n",
    "young_ch11_intensity = new_db[(new_db.Class==1)].Intensity_MC_Ch11\n",
    "old_ch7_intensity = new_db[(new_db.Class ==0)].Intensity_MC_Ch07\n",
    "old_ch11_intensity = new_db[(new_db.Class==0)].Intensity_MC_Ch11\n",
    "\n",
    "plt.plot(young_ch7_intensity, young_ch11_intensity, '.')\n",
    "plt.plot(old_ch7_intensity, old_ch11_intensity,'.')\n",
    "plt.legend(['young', 'old'])\n",
    "plt.xlabel('Ch7')\n",
    "plt.ylabel('Ch11')\n",
    "plt.show()\n",
    "# thought I should sperate these plots out. \n",
    "plt.subplot(2,1,1)\n",
    "plt.plot(young_ch7_intensity, young_ch11_intensity, '.')\n",
    "plt.xlabel('Ch7 Young')\n",
    "plt.ylabel('Ch11 Young')\n",
    "plt.subplot(2,1,2)\n",
    "plt.plot(old_ch7_intensity, old_ch11_intensity,'.')\n",
    "plt.xlabel('Ch7 Old')\n",
    "plt.ylabel('Ch11 Old')\n",
    "# plt.legend(['young', 'old'])\n",
    "plt.show()\n",
    "# Pearson's correlation coefficient\n",
    "print(\"Young Pearson's correlation coefficient\")\n",
    "print(np.corrcoef(young_ch7_intensity, young_ch11_intensity))\n",
    "print(\"Old Pearson's correlation coefficient\")\n",
    "print(np.corrcoef(old_ch7_intensity, old_ch11_intensity))\n"
   ]
  },
  {
   "cell_type": "markdown",
   "metadata": {},
   "source": [
    "### Let's try and run ransac on this example"
   ]
  },
  {
   "cell_type": "code",
   "execution_count": 10,
   "metadata": {},
   "outputs": [
    {
     "name": "stderr",
     "output_type": "stream",
     "text": [
      "\r",
      "  0%|          | 0/300 [00:00<?, ?it/s]"
     ]
    },
    {
     "name": "stdout",
     "output_type": "stream",
     "text": [
      "('took iterations:', 1, 'best model:', array([ -9.88428198e-01,   1.51689476e-01,   3.33900342e-05]), 'explains:', 6506)\n"
     ]
    },
    {
     "name": "stderr",
     "output_type": "stream",
     "text": [
      "\n"
     ]
    },
    {
     "data": {
      "image/png": "[encoded data removed]",
      "text/plain": [
       "<matplotlib.figure.Figure at 0x7f7ee1a7b450>"
      ]
     },
     "metadata": {
      "needs_background": "light"
     },
     "output_type": "display_data"
    },
    {
     "name": "stdout",
     "output_type": "stream",
     "text": [
      "slope:0.153465346535\n"
     ]
    }
   ],
   "source": [
    "from ransac import *\n",
    "X = young_ch7_intensity.to_numpy()/1000.0\n",
    "Y = young_ch11_intensity.to_numpy()/1000.0\n",
    "while X.shape[0]>20:\n",
    "    inliers,model = ransac(X,Y)\n",
    "    a,b,c = model\n",
    "    print('slope:' + str(-b/a))\n",
    "    X = X[inliers.flatten()<=0]\n",
    "    Y = Y[inliers.flatten()<=0]\n",
    "    if X.shape[0] <20:\n",
    "        continue\n"
   ]
  },
  {
   "cell_type": "code",
   "execution_count": 11,
   "metadata": {},
   "outputs": [
    {
     "name": "stdout",
     "output_type": "stream",
     "text": [
      "(0,)\n"
     ]
    },
    {
     "ename": "IndexError",
     "evalue": "boolean index did not match indexed array along dimension 0; dimension is 0 but corresponding boolean dimension is 6506",
     "output_type": "error",
     "traceback": [
      "\u001b[0;31m---------------------------------------------------------------------------\u001b[0m",
      "\u001b[0;31mIndexError\u001b[0m                                Traceback (most recent call last)",
      "\u001b[0;32m<ipython-input-11-63391add46ca>\u001b[0m in \u001b[0;36m<module>\u001b[0;34m()\u001b[0m\n\u001b[1;32m      1\u001b[0m \u001b[0;32mprint\u001b[0m\u001b[0;34m(\u001b[0m\u001b[0mX\u001b[0m\u001b[0;34m.\u001b[0m\u001b[0mshape\u001b[0m\u001b[0;34m)\u001b[0m\u001b[0;34m\u001b[0m\u001b[0m\n\u001b[1;32m      2\u001b[0m \u001b[0;34m\u001b[0m\u001b[0m\n\u001b[0;32m----> 3\u001b[0;31m \u001b[0mX\u001b[0m \u001b[0;34m=\u001b[0m \u001b[0mX\u001b[0m\u001b[0;34m[\u001b[0m\u001b[0minliers\u001b[0m\u001b[0;34m.\u001b[0m\u001b[0mflatten\u001b[0m\u001b[0;34m(\u001b[0m\u001b[0;34m)\u001b[0m\u001b[0;34m>\u001b[0m\u001b[0;36m0\u001b[0m\u001b[0;34m,\u001b[0m\u001b[0;34m.\u001b[0m\u001b[0;34m.\u001b[0m\u001b[0;34m.\u001b[0m\u001b[0;34m]\u001b[0m\u001b[0;34m\u001b[0m\u001b[0m\n\u001b[0m\u001b[1;32m      4\u001b[0m \u001b[0mX\u001b[0m\u001b[0;34m.\u001b[0m\u001b[0mshape\u001b[0m\u001b[0;34m\u001b[0m\u001b[0m\n",
      "\u001b[0;31mIndexError\u001b[0m: boolean index did not match indexed array along dimension 0; dimension is 0 but corresponding boolean dimension is 6506"
     ]
    }
   ],
   "source": [
    "print(X.shape)\n",
    "\n",
    "X = X[inliers.flatten()>0,...]\n",
    "X.shape"
   ]
  },
  {
   "cell_type": "markdown",
   "metadata": {},
   "source": [
    "## Correlation between ch7 and ch4. "
   ]
  },
  {
   "cell_type": "code",
   "execution_count": 18,
   "metadata": {},
   "outputs": [
    {
     "ename": "AttributeError",
     "evalue": "'DataFrame' object has no attribute 'Intensity_MC_Ch04'",
     "output_type": "error",
     "traceback": [
      "\u001b[0;31m---------------------------------------------------------------------------\u001b[0m",
      "\u001b[0;31mAttributeError\u001b[0m                            Traceback (most recent call last)",
      "\u001b[0;32m<ipython-input-18-85ddb55b9e70>\u001b[0m in \u001b[0;36m<module>\u001b[0;34m()\u001b[0m\n\u001b[1;32m      2\u001b[0m \u001b[0mplt\u001b[0m\u001b[0;34m.\u001b[0m\u001b[0mfigure\u001b[0m\u001b[0;34m(\u001b[0m\u001b[0;34m)\u001b[0m\u001b[0;34m\u001b[0m\u001b[0m\n\u001b[1;32m      3\u001b[0m \u001b[0myoung_ch7_intensity\u001b[0m \u001b[0;34m=\u001b[0m \u001b[0mnew_db\u001b[0m\u001b[0;34m[\u001b[0m\u001b[0;34m(\u001b[0m\u001b[0mnew_db\u001b[0m\u001b[0;34m.\u001b[0m\u001b[0mClass\u001b[0m \u001b[0;34m==\u001b[0m\u001b[0;36m1\u001b[0m\u001b[0;34m)\u001b[0m\u001b[0;34m]\u001b[0m\u001b[0;34m.\u001b[0m\u001b[0mIntensity_MC_Ch07\u001b[0m\u001b[0;34m\u001b[0m\u001b[0m\n\u001b[0;32m----> 4\u001b[0;31m \u001b[0myoung_ch4_intensity\u001b[0m \u001b[0;34m=\u001b[0m \u001b[0mnew_db\u001b[0m\u001b[0;34m[\u001b[0m\u001b[0;34m(\u001b[0m\u001b[0mnew_db\u001b[0m\u001b[0;34m.\u001b[0m\u001b[0mClass\u001b[0m\u001b[0;34m==\u001b[0m\u001b[0;36m1\u001b[0m\u001b[0;34m)\u001b[0m\u001b[0;34m]\u001b[0m\u001b[0;34m.\u001b[0m\u001b[0mIntensity_MC_Ch04\u001b[0m\u001b[0;34m\u001b[0m\u001b[0m\n\u001b[0m\u001b[1;32m      5\u001b[0m \u001b[0mold_ch7_intensity\u001b[0m \u001b[0;34m=\u001b[0m \u001b[0mnew_db\u001b[0m\u001b[0;34m[\u001b[0m\u001b[0;34m(\u001b[0m\u001b[0mnew_db\u001b[0m\u001b[0;34m.\u001b[0m\u001b[0mClass\u001b[0m \u001b[0;34m==\u001b[0m\u001b[0;36m0\u001b[0m\u001b[0;34m)\u001b[0m\u001b[0;34m]\u001b[0m\u001b[0;34m.\u001b[0m\u001b[0mIntensity_MC_Ch07\u001b[0m\u001b[0;34m\u001b[0m\u001b[0m\n\u001b[1;32m      6\u001b[0m \u001b[0mold_ch4_intensity\u001b[0m \u001b[0;34m=\u001b[0m \u001b[0mnew_db\u001b[0m\u001b[0;34m[\u001b[0m\u001b[0;34m(\u001b[0m\u001b[0mnew_db\u001b[0m\u001b[0;34m.\u001b[0m\u001b[0mClass\u001b[0m\u001b[0;34m==\u001b[0m\u001b[0;36m0\u001b[0m\u001b[0;34m)\u001b[0m\u001b[0;34m]\u001b[0m\u001b[0;34m.\u001b[0m\u001b[0mIntensity_MC_Ch04\u001b[0m\u001b[0;34m\u001b[0m\u001b[0m\n",
      "\u001b[0;32m/home/ankitb/.local/lib/python2.7/site-packages/pandas/core/generic.pyc\u001b[0m in \u001b[0;36m__getattr__\u001b[0;34m(self, name)\u001b[0m\n\u001b[1;32m   5065\u001b[0m             \u001b[0;32mif\u001b[0m \u001b[0mself\u001b[0m\u001b[0;34m.\u001b[0m\u001b[0m_info_axis\u001b[0m\u001b[0;34m.\u001b[0m\u001b[0m_can_hold_identifiers_and_holds_name\u001b[0m\u001b[0;34m(\u001b[0m\u001b[0mname\u001b[0m\u001b[0;34m)\u001b[0m\u001b[0;34m:\u001b[0m\u001b[0;34m\u001b[0m\u001b[0m\n\u001b[1;32m   5066\u001b[0m                 \u001b[0;32mreturn\u001b[0m \u001b[0mself\u001b[0m\u001b[0;34m[\u001b[0m\u001b[0mname\u001b[0m\u001b[0;34m]\u001b[0m\u001b[0;34m\u001b[0m\u001b[0m\n\u001b[0;32m-> 5067\u001b[0;31m             \u001b[0;32mreturn\u001b[0m \u001b[0mobject\u001b[0m\u001b[0;34m.\u001b[0m\u001b[0m__getattribute__\u001b[0m\u001b[0;34m(\u001b[0m\u001b[0mself\u001b[0m\u001b[0;34m,\u001b[0m \u001b[0mname\u001b[0m\u001b[0;34m)\u001b[0m\u001b[0;34m\u001b[0m\u001b[0m\n\u001b[0m\u001b[1;32m   5068\u001b[0m \u001b[0;34m\u001b[0m\u001b[0m\n\u001b[1;32m   5069\u001b[0m     \u001b[0;32mdef\u001b[0m \u001b[0m__setattr__\u001b[0m\u001b[0;34m(\u001b[0m\u001b[0mself\u001b[0m\u001b[0;34m,\u001b[0m \u001b[0mname\u001b[0m\u001b[0;34m,\u001b[0m \u001b[0mvalue\u001b[0m\u001b[0;34m)\u001b[0m\u001b[0;34m:\u001b[0m\u001b[0;34m\u001b[0m\u001b[0m\n",
      "\u001b[0;31mAttributeError\u001b[0m: 'DataFrame' object has no attribute 'Intensity_MC_Ch04'"
     ]
    },
    {
     "data": {
      "text/plain": [
       "<matplotlib.figure.Figure at 0x7f7ed871bc10>"
      ]
     },
     "metadata": {},
     "output_type": "display_data"
    }
   ],
   "source": [
    "new_db = filtered_db\n",
    "plt.figure()\n",
    "young_ch7_intensity = new_db[(new_db.Class ==1)].Intensity_MC_Ch07\n",
    "young_ch4_intensity = new_db[(new_db.Class==1)].Intensity_MC_Ch04\n",
    "old_ch7_intensity = new_db[(new_db.Class ==0)].Intensity_MC_Ch07\n",
    "old_ch4_intensity = new_db[(new_db.Class==0)].Intensity_MC_Ch04\n",
    "\n",
    "plt.plot(young_ch7_intensity, young_ch4_intensity, '.')\n",
    "plt.plot(old_ch7_intensity, old_ch4_intensity,'.')\n",
    "plt.xlabel('Ch7')\n",
    "plt.ylabel('Ch4')\n",
    "plt.legend(['young', 'old'])\n",
    "plt.show()\n",
    "# thought I should sperate these plots out. \n",
    "plt.subplot(2,1,1)\n",
    "plt.plot(young_ch7_intensity, young_ch4_intensity, '.')\n",
    "plt.xlabel('Ch7 Young')\n",
    "plt.ylabel('Ch4 Young')\n",
    "plt.subplot(2,1,2)\n",
    "plt.plot(old_ch7_intensity, old_ch4_intensity,'.')\n",
    "plt.xlabel('Ch7 Old')\n",
    "plt.ylabel('Ch4 Old')\n",
    "plt.legend(['young', 'old'])\n",
    "plt.show()\n",
    "# Pearson's correlation coefficient\n",
    "print(\"Young Pearson's correlation coefficient\")\n",
    "print(np.corrcoef(young_ch7_intensity, young_ch4_intensity))\n",
    "print(\"Old Pearson's correlation coefficient\")\n",
    "print(np.corrcoef(old_ch7_intensity, old_ch4_intensity))\n"
   ]
  },
  {
   "cell_type": "code",
   "execution_count": null,
   "metadata": {},
   "outputs": [],
   "source": [
    "new_db = filtered_db\n",
    "plt.figure()\n",
    "young_ch7_intensity = new_db[(new_db.Class ==1)].Intensity_MC_Ch07\n",
    "young_ch4_intensity = new_db[(new_db.Class==1)].Intensity_MC_Ch02\n",
    "old_ch7_intensity = new_db[(new_db.Class ==0)].Intensity_MC_Ch07\n",
    "old_ch4_intensity = new_db[(new_db.Class==0)].Intensity_MC_Ch02\n",
    "\n",
    "plt.plot(young_ch7_intensity, young_ch4_intensity, '.')\n",
    "plt.plot(old_ch7_intensity, old_ch4_intensity,'.')\n",
    "plt.xlabel('Ch7')\n",
    "plt.ylabel('Ch4')\n",
    "plt.legend(['young', 'old'])\n",
    "plt.show()\n",
    "# thought I should sperate these plots out. \n",
    "plt.subplot(2,1,1)\n",
    "plt.plot(young_ch7_intensity, young_ch4_intensity, '.')\n",
    "plt.xlabel('Ch7 Young')\n",
    "plt.ylabel('Ch4 Young')\n",
    "plt.subplot(2,1,2)\n",
    "plt.plot(old_ch7_intensity, old_ch4_intensity,'.')\n",
    "plt.xlabel('Ch7 Old')\n",
    "plt.ylabel('Ch4 Old')\n",
    "plt.legend(['young', 'old'])\n",
    "plt.show()\n",
    "# Pearson's correlation coefficient\n",
    "print(\"Young Pearson's correlation coefficient\")\n",
    "print(np.corrcoef(young_ch7_intensity, young_ch4_intensity))\n",
    "print(\"Old Pearson's correlation coefficient\")\n",
    "print(np.corrcoef(old_ch7_intensity, old_ch4_intensity))"
   ]
  },
  {
   "cell_type": "markdown",
   "metadata": {},
   "source": [
    "## Correlation between ch2 and ch11. "
   ]
  },
  {
   "cell_type": "code",
   "execution_count": null,
   "metadata": {},
   "outputs": [],
   "source": [
    "new_db = filtered_db\n",
    "plt.figure()\n",
    "young_ch2_intensity = new_db[(new_db.Class ==1)].Intensity_MC_Ch02\n",
    "young_ch11_intensity = new_db[(new_db.Class==1)].Intensity_MC_Ch11\n",
    "old_ch2_intensity = new_db[(new_db.Class ==0)].Intensity_MC_Ch02\n",
    "old_ch11_intensity = new_db[(new_db.Class==0)].Intensity_MC_Ch11\n",
    "\n",
    "plt.plot(young_ch2_intensity, young_ch11_intensity, '.')\n",
    "plt.plot(old_ch2_intensity, old_ch11_intensity,'.')\n",
    "plt.xlabel('Ch2')\n",
    "plt.ylabel('Ch11')\n",
    "plt.legend(['young', 'old'])\n",
    "plt.show()\n",
    "# thought I should sperate these plots out. \n",
    "plt.subplot(2,1,1)\n",
    "plt.plot(young_ch2_intensity, young_ch11_intensity, '.')\n",
    "plt.xlabel('Ch2 Young')\n",
    "plt.ylabel('Ch11 Young')\n",
    "plt.subplot(2,1,2)\n",
    "plt.plot(old_ch2_intensity, old_ch11_intensity,'.')\n",
    "plt.xlabel('Ch2 Old')\n",
    "plt.ylabel('Ch11 Old')\n",
    "plt.legend(['young', 'old'])\n",
    "plt.show()\n",
    "# Pearson's correlation coefficient\n",
    "print(\"Young Pearson's correlation coefficient\")\n",
    "print(np.corrcoef(young_ch2_intensity, young_ch11_intensity))\n",
    "print(\"Old Pearson's correlation coefficient\")\n",
    "print(np.corrcoef(old_ch2_intensity, old_ch11_intensity))"
   ]
  },
  {
   "cell_type": "markdown",
   "metadata": {},
   "source": [
    "## Correlation between ch2 and ch4. "
   ]
  },
  {
   "cell_type": "code",
   "execution_count": null,
   "metadata": {},
   "outputs": [],
   "source": [
    "new_db = filtered_db\n",
    "plt.figure()\n",
    "young_ch2_intensity = new_db[(new_db.Class ==1)].Intensity_MC_Ch02\n",
    "young_ch4_intensity = new_db[(new_db.Class==1)].Intensity_MC_Ch04\n",
    "old_ch2_intensity = new_db[(new_db.Class ==0)].Intensity_MC_Ch02\n",
    "old_ch4_intensity = new_db[(new_db.Class==0)].Intensity_MC_Ch04\n",
    "\n",
    "plt.plot(young_ch2_intensity, young_ch4_intensity, '.')\n",
    "plt.plot(old_ch2_intensity, old_ch4_intensity,'.')\n",
    "plt.xlabel('Ch2')\n",
    "plt.ylabel('Ch11')\n",
    "plt.legend(['young', 'old'])\n",
    "plt.show()\n",
    "# thought I should sperate these plots out. \n",
    "plt.subplot(2,1,1)\n",
    "plt.plot(young_ch2_intensity, young_ch4_intensity, '.')\n",
    "plt.xlabel('Ch2 Young')\n",
    "plt.ylabel('Ch11 Young')\n",
    "plt.subplot(2,1,2)\n",
    "plt.plot(old_ch2_intensity, old_ch4_intensity,'.')\n",
    "plt.xlabel('Ch2 Old')\n",
    "plt.ylabel('Ch11 Old')\n",
    "plt.legend(['young', 'old'])\n",
    "plt.show()\n",
    "# Pearson's correlation coefficient\n",
    "print(\"Young Pearson's correlation coefficient\")\n",
    "print(np.corrcoef(young_ch2_intensity, young_ch4_intensity))\n",
    "print(\"Old Pearson's correlation coefficient\")\n",
    "print(np.corrcoef(old_ch2_intensity, old_ch4_intensity))"
   ]
  },
  {
   "cell_type": "markdown",
   "metadata": {},
   "source": [
    "## Ransac to do a line fit for the correlations ? "
   ]
  },
  {
   "cell_type": "markdown",
   "metadata": {},
   "source": [
    "## Differences in cd81, cd63 between young and old. \n",
    "Generated using code written by Ankit"
   ]
  },
  {
   "cell_type": "code",
   "execution_count": null,
   "metadata": {},
   "outputs": [],
   "source": [
    "analysis.getContingencyMatrix()"
   ]
  },
  {
   "cell_type": "code",
   "execution_count": null,
   "metadata": {},
   "outputs": [],
   "source": [
    "hist_range = [[0,150],[0,150],[0,25],[0,2000],[0,100],[0,100]]\n",
    "# hist_range = []\n",
    "dist = analysis.getTotalIntensityDistribution(hist_range)\n",
    "\n",
    "labels = ['Intensity CD63', 'Intensity CD81', 'Intensity KL','Intensity AltKL','Size CD63', 'Size CD81', 'Size KL']\n",
    "for key in dist:\n",
    "    print (key)\n",
    "    for i,label in enumerate(labels):\n",
    "        print(label)\n",
    "        print('Mean: {0:.2f} Variance: {1:.2f}'.format(dist[key]['Mean'][i],dist[key]['Var'][i]))"
   ]
  },
  {
   "cell_type": "code",
   "execution_count": null,
   "metadata": {},
   "outputs": [],
   "source": [
    "points_young = analysis.points_young\n",
    "points_old = analysis.points_old\n",
    "\n",
    "from scipy.stats import mannwhitneyu\n",
    "print ('Mann Whitney U Test Resuts:')\n",
    "labels = ['Intensity CD63', 'Intensity CD81', 'Intensity KL','Intensity AltKL', 'Size CD63', 'Size CD81', 'Size KL']\n",
    "for i in range(0,7):\n",
    "    young = points_young[:,i]\n",
    "    old = points_old[:,i]\n",
    "    print(labels[i] + ': ' +  str(mannwhitneyu(young, old)[1]))\n",
    "\n",
    "np.savetxt('points_young.csv', points_young, header='young\\n'+','.join(labels),delimiter=',')\n",
    "np.savetxt('points_old.csv', points_old, header='old\\n'+','.join(labels),delimiter=',')"
   ]
  },
  {
   "cell_type": "code",
   "execution_count": null,
   "metadata": {},
   "outputs": [],
   "source": [
    "%matplotlib inline\n",
    "print(points_young.shape)\n",
    "labels = ['Intensity CD63', 'Intensity CD81', 'Intensity KL','Intensity AltKL', 'Size CD63', 'Size CD81', 'Size KL']\n",
    "for i in range(0,6):\n",
    "    fig=plt.figure()\n",
    "    sns.distplot(points_young[:,i],hist=False,rug=True,rug_kws={'height':0.1})\n",
    "    sns.distplot(points_old[:,i],hist=False,rug=True,rug_kws={'height':0.05})\n",
    "    plt.legend(['Young', 'Old'])\n",
    "    plt.title(labels[i])\n",
    "    plt.tight_layout()\n"
   ]
  },
  {
   "cell_type": "markdown",
   "metadata": {},
   "source": [
    "## What happens if we keep all background mean features:"
   ]
  },
  {
   "cell_type": "code",
   "execution_count": null,
   "metadata": {},
   "outputs": [],
   "source": [
    "new_db = filtered_db\n",
    "#When I was calling this function, it wasn't actually doing anything. No wonder we were getting \n",
    "#such crappy accuracies. \n",
    "new_db = new_db.sample(frac=1)\n",
    "\n",
    "# Create the outputs Class \n",
    "Y = new_db.Class.to_numpy()\n",
    "Y = Y>0 # ch04> = 1, ch04< = 0\n",
    "\n",
    "X = new_db.drop(['Class', 'Object Number',], axis=1)\n",
    "\n",
    "\n",
    "#This should drop nothing. \n",
    "X = X.drop(X.columns[X.isna().any()].tolist(), axis=1)\n",
    "\n",
    "# train a classifier on all the data\n",
    "clf = DecisionTreeClassifier(criterion='entropy')\n",
    "sol = clf.fit(X.to_numpy(),Y.astype('int'))\n",
    "\n",
    "# Print out the feature importances\n",
    "print('Feature Importances:')\n",
    "imp = sol.feature_importances_\n",
    "features = {}\n",
    "for i in range(0,10):\n",
    "    print(X.columns[np.argmax(imp)] + ' ' + '{:0.3f}'.format(np.max(imp)))\n",
    "    features[X.columns[np.argmax(imp)]] = np.max(imp)\n",
    "    imp[np.argmax(imp)] = 0\n",
    "    \n",
    "# Print the crossvalidation score:\n",
    "s = cross_val_score(clf, X.to_numpy(), Y.astype('int'), cv=20, n_jobs=-1)\n",
    "print('Cross-validation Score: ' + str(np.mean(s)))\n",
    "\n",
    "# Plot a graph with all the features\n",
    "sorted_d = OrderedDict(sorted(features.items(), key=lambda x: x[1]))\n",
    "names = list(sorted_d.keys())\n",
    "values = list(sorted_d.values())\n",
    "plt.figure()\n",
    "plt.bar(names, values)\n",
    "plt.xticks(rotation=90)\n",
    "plt.show()"
   ]
  },
  {
   "cell_type": "markdown",
   "metadata": {},
   "source": [
    "## Is there a way to find out if most of ch11 is >0 in cells that are ch2<0 and ch7>0"
   ]
  },
  {
   "cell_type": "code",
   "execution_count": null,
   "metadata": {},
   "outputs": [],
   "source": [
    "new_db = filtered_db\n",
    "new_db = new_db[(new_db.Intensity_MC_Ch02 >0) & (new_db.Intensity_MC_Ch07>0)]\n",
    "print('So what are we left with:', str(new_db.shape))\n",
    "ch11 = new_db.Intensity_MC_Ch11\n",
    "print('Ch11 positive:', np.count_nonzero(ch11>0))\n",
    "print('Ch11 negative:', np.count_nonzero(ch11<=0))\n",
    "print('Size of points young', analysis.points_young.shape[0])\n",
    "print('Size of points old', analysis.points_old.shape[0])"
   ]
  },
  {
   "cell_type": "markdown",
   "metadata": {},
   "source": [
    "## Using your method...if we do correlation between cd63 and KL or cd81 and KL.  Do we see the same thing?\n",
    "### CD81 & KL"
   ]
  },
  {
   "cell_type": "code",
   "execution_count": 15,
   "metadata": {},
   "outputs": [
    {
     "data": {
      "image/png": "[encoded data removed]",
      "text/plain": [
       "<matplotlib.figure.Figure at 0x7f7ee185bed0>"
      ]
     },
     "metadata": {
      "needs_background": "light"
     },
     "output_type": "display_data"
    },
    {
     "data": {
      "image/png": "[encoded data removed]",
      "text/plain": [
       "<matplotlib.figure.Figure at 0x7f7ee1687a90>"
      ]
     },
     "metadata": {
      "needs_background": "light"
     },
     "output_type": "display_data"
    }
   ],
   "source": [
    "points_young = analysis.points_young\n",
    "points_old = analysis.points_old\n",
    "# points_young[:,1]\n",
    "plt.subplot(1,2,1)\n",
    "plt.title('Young')\n",
    "plt.plot(points_young[:,1], points_young[:,2],'.')\n",
    "plt.xlabel('CD81')\n",
    "plt.ylabel('KL')\n",
    "\n",
    "plt.subplot(1,2,2)\n",
    "plt.title('Old')\n",
    "plt.plot(points_old[:,1], points_old[:,2],'.')\n",
    "plt.xlabel('CD81')\n",
    "plt.figure()\n",
    "plt.plot(points_young[:,1], points_young[:,2],'.')\n",
    "plt.plot(points_old[:,1], points_old[:,2],'.')\n",
    "plt.xlabel('CD81')\n",
    "plt.ylabel('KL')\n",
    "plt.legend(['young', 'old'])\n",
    "plt.show()"
   ]
  },
  {
   "cell_type": "markdown",
   "metadata": {},
   "source": [
    "### CD63 and KL"
   ]
  },
  {
   "cell_type": "code",
   "execution_count": 16,
   "metadata": {},
   "outputs": [
    {
     "data": {
      "text/plain": [
       "<matplotlib.legend.Legend at 0x7f7ee00a6450>"
      ]
     },
     "execution_count": 16,
     "metadata": {},
     "output_type": "execute_result"
    },
    {
     "data": {
      "image/png": "[encoded data removed]",
      "text/plain": [
       "<matplotlib.figure.Figure at 0x7f7ee01a0f50>"
      ]
     },
     "metadata": {
      "needs_background": "light"
     },
     "output_type": "display_data"
    },
    {
     "data": {
      "image/png": "[encoded data removed]",
      "text/plain": [
       "<matplotlib.figure.Figure at 0x7f7ee00cb8d0>"
      ]
     },
     "metadata": {
      "needs_background": "light"
     },
     "output_type": "display_data"
    }
   ],
   "source": [
    "points_young = analysis.points_young\n",
    "points_old = analysis.points_old\n",
    "# points_young[:,1]\n",
    "plt.subplot(1,2,1)\n",
    "plt.title('Young')\n",
    "plt.plot(points_young[:,0], points_young[:,2],'.')\n",
    "plt.xlabel('CD63')\n",
    "plt.ylabel('KL')\n",
    "\n",
    "plt.subplot(1,2,2)\n",
    "plt.title('Old')\n",
    "plt.plot(points_old[:,0], points_old[:,2],'.')\n",
    "plt.xlabel('CD63')\n",
    "plt.figure()\n",
    "plt.plot(points_young[:,0], points_young[:,2],'.')\n",
    "plt.plot(points_old[:,0], points_old[:,2],'.')\n",
    "plt.xlabel('CD63')\n",
    "plt.ylabel('KL')\n",
    "plt.legend(['young', 'old'])"
   ]
  },
  {
   "cell_type": "markdown",
   "metadata": {},
   "source": [
    "# Klotho intensity for CD81+ and CD81- particles"
   ]
  },
  {
   "cell_type": "code",
   "execution_count": 17,
   "metadata": {},
   "outputs": [
    {
     "ename": "AttributeError",
     "evalue": "'DataFrame' object has no attribute 'Intensity_MC_Ch04'",
     "output_type": "error",
     "traceback": [
      "\u001b[0;31m---------------------------------------------------------------------------\u001b[0m",
      "\u001b[0;31mAttributeError\u001b[0m                            Traceback (most recent call last)",
      "\u001b[0;32m<ipython-input-17-f02d3bbe186a>\u001b[0m in \u001b[0;36m<module>\u001b[0;34m()\u001b[0m\n\u001b[1;32m      2\u001b[0m \u001b[0;34m\u001b[0m\u001b[0m\n\u001b[1;32m      3\u001b[0m \u001b[0mcd81_pos\u001b[0m \u001b[0;34m=\u001b[0m \u001b[0mnew_db\u001b[0m\u001b[0;34m[\u001b[0m\u001b[0;34m(\u001b[0m\u001b[0mnew_db\u001b[0m\u001b[0;34m.\u001b[0m\u001b[0mIntensity_MC_Ch07\u001b[0m\u001b[0;34m>\u001b[0m\u001b[0;36m0\u001b[0m\u001b[0;34m)\u001b[0m\u001b[0;34m]\u001b[0m\u001b[0;34m\u001b[0m\u001b[0m\n\u001b[0;32m----> 4\u001b[0;31m \u001b[0mcd81_neg\u001b[0m \u001b[0;34m=\u001b[0m \u001b[0mnew_db\u001b[0m\u001b[0;34m[\u001b[0m\u001b[0;34m(\u001b[0m\u001b[0mnew_db\u001b[0m\u001b[0;34m.\u001b[0m\u001b[0mIntensity_MC_Ch04\u001b[0m\u001b[0;34m<\u001b[0m\u001b[0;36m0\u001b[0m\u001b[0;34m)\u001b[0m\u001b[0;34m]\u001b[0m\u001b[0;34m\u001b[0m\u001b[0m\n\u001b[0m",
      "\u001b[0;32m/home/ankitb/.local/lib/python2.7/site-packages/pandas/core/generic.pyc\u001b[0m in \u001b[0;36m__getattr__\u001b[0;34m(self, name)\u001b[0m\n\u001b[1;32m   5065\u001b[0m             \u001b[0;32mif\u001b[0m \u001b[0mself\u001b[0m\u001b[0;34m.\u001b[0m\u001b[0m_info_axis\u001b[0m\u001b[0;34m.\u001b[0m\u001b[0m_can_hold_identifiers_and_holds_name\u001b[0m\u001b[0;34m(\u001b[0m\u001b[0mname\u001b[0m\u001b[0;34m)\u001b[0m\u001b[0;34m:\u001b[0m\u001b[0;34m\u001b[0m\u001b[0m\n\u001b[1;32m   5066\u001b[0m                 \u001b[0;32mreturn\u001b[0m \u001b[0mself\u001b[0m\u001b[0;34m[\u001b[0m\u001b[0mname\u001b[0m\u001b[0;34m]\u001b[0m\u001b[0;34m\u001b[0m\u001b[0m\n\u001b[0;32m-> 5067\u001b[0;31m             \u001b[0;32mreturn\u001b[0m \u001b[0mobject\u001b[0m\u001b[0;34m.\u001b[0m\u001b[0m__getattribute__\u001b[0m\u001b[0;34m(\u001b[0m\u001b[0mself\u001b[0m\u001b[0;34m,\u001b[0m \u001b[0mname\u001b[0m\u001b[0;34m)\u001b[0m\u001b[0;34m\u001b[0m\u001b[0m\n\u001b[0m\u001b[1;32m   5068\u001b[0m \u001b[0;34m\u001b[0m\u001b[0m\n\u001b[1;32m   5069\u001b[0m     \u001b[0;32mdef\u001b[0m \u001b[0m__setattr__\u001b[0m\u001b[0;34m(\u001b[0m\u001b[0mself\u001b[0m\u001b[0;34m,\u001b[0m \u001b[0mname\u001b[0m\u001b[0;34m,\u001b[0m \u001b[0mvalue\u001b[0m\u001b[0;34m)\u001b[0m\u001b[0;34m:\u001b[0m\u001b[0;34m\u001b[0m\u001b[0m\n",
      "\u001b[0;31mAttributeError\u001b[0m: 'DataFrame' object has no attribute 'Intensity_MC_Ch04'"
     ]
    }
   ],
   "source": [
    "new_db = filtered_db\n",
    "\n",
    "cd81_pos = new_db[(new_db.Intensity_MC_Ch07>0)]\n",
    "cd81_neg = new_db[(new_db.Intensity_MC_Ch04<0)]"
   ]
  },
  {
   "cell_type": "code",
   "execution_count": null,
   "metadata": {},
   "outputs": [],
   "source": [
    "y = np.sum(points_young[:,2:4],axis=1)\n",
    "o = np.sum(points_old[:,2:4],axis=1)\n",
    "\n",
    "print('Young Mean: ',np.mean(y))\n",
    "print('Old Mean: ', np.mean(o))\n",
    "print('Young Variance: ',np.var(y))\n",
    "print('Old Variance: ', np.var(o))\n",
    "\n",
    "plt.figure()\n",
    "sns.distplot(y,hist=False)\n",
    "sns.distplot(o,hist=False)"
   ]
  }
 ],
 "metadata": {
  "kernelspec": {
   "display_name": "Python 3",
   "language": "python",
   "name": "python3"
  },
  "language_info": {
   "codemirror_mode": {
    "name": "ipython",
    "version": 2
   },
   "file_extension": ".py",
   "mimetype": "text/x-python",
   "name": "python",
   "nbconvert_exporter": "python",
   "pygments_lexer": "ipython2",
   "version": "2.7.17"
  }
 },
 "nbformat": 4,
 "nbformat_minor": 2
}
