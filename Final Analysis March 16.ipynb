{
 "cells": [
  {
   "cell_type": "markdown",
   "metadata": {},
   "source": [
    "# Final Analysis March 16\n",
    "1. For fig2C, I need the weights of feature ranking to classify age without Klotho (i.e. without ch4 and ch11). \n",
    "2. For fig2D, rug plot for CD63. Also the mean and variance\n",
    "3. For fig2E, rug plot for cd81. Also the mean and variance\n",
    "4. For fig3G, rug plot for Klotho. In this case, add intensity (your values) columns for alt-kl (ch4) and klotho (ch11) and then plot them. Also send me the mean and variance. \n",
    "5. For fig3I, linear regression based weights for prediction of klotho. Can you send me two sets of analysis here: prediction of only ch11 and prediction of ch4+ch11 \n",
    "6. For fig3J, Correlation between cd82 and klotho. I can make this with the sheet you had sent me. \n",
    "7. For fig3K, the heat map like thing that you suggested where the rows are all features and columns are age and Klotho. I need numbers (weights?) to work with. \n",
    "\n",
    "I think for most analysis, let's consider Klotho intensity to be a sum of alt-kl (ch4) and klotho (ch11). "
   ]
  },
  {
   "cell_type": "code",
   "execution_count": 166,
   "metadata": {},
   "outputs": [],
   "source": [
    "% reload_ext autoreload\n",
    "% autoreload 2\n",
    "import pandas as pd\n",
    "from BioAnalysis import BioAnalysis\n",
    "import numpy as np\n",
    "from tqdm import tqdm, trange\n",
    "import sys\n",
    "from sklearn.tree import DecisionTreeClassifier\n",
    "from sklearn.model_selection import cross_val_score\n",
    "import numpy as np\n",
    "import matplotlib.pyplot as plt\n",
    "import operator \n",
    "from collections import OrderedDict\n",
    "from sklearn.linear_model import RANSACRegressor\n",
    "from sklearn import preprocessing\n",
    "from scipy.stats import fisher_exact\n",
    "from IPython.display import HTML, display\n",
    "import csv\n",
    "import sys\n",
    "# !{sys.executable} -m pip install seaborn\n",
    "import seaborn as sns\n",
    "from sklearn.linear_model import LinearRegression"
   ]
  },
  {
   "cell_type": "code",
   "execution_count": 167,
   "metadata": {},
   "outputs": [],
   "source": [
    "db = pd.read_csv('../Amrita_29feb/features.csv')\n",
    "analysis = BioAnalysis('../Amrita_29feb/')\n",
    "points = analysis.points\n",
    "\n",
    "columns = list(db.columns)\n",
    "db['Index'] = db.Class*10000 + db['Object Number']\n",
    "db.set_index('Index')\n",
    "filtered = analysis.getFilteredIndices()\n",
    "indices = filtered[:,0]*10000 + filtered[:,1]\n",
    "indices = [int(index) for index in indices]\n",
    "filtered_db = db.loc[indices,:]\n",
    "filtered_db.Intensity_MC_Ch02 = points[:,0]\n",
    "filtered_db.Intensity_MC_Ch07 = points[:,1]\n",
    "filtered_db.Intensity_MC_Ch11 = points[:,2]\n",
    "try:\n",
    "    filtered_db.Intensity_MC_Ch04 = points[:,3]\n",
    "except:\n",
    "    pass\n",
    "filtered_db['Intensity_MC_KL'] = filtered_db.Intensity_MC_Ch04 + filtered_db.Intensity_MC_Ch11\n",
    "unfiltered_db = filtered_db\n"
   ]
  },
  {
   "cell_type": "code",
   "execution_count": 168,
   "metadata": {
    "scrolled": false
   },
   "outputs": [],
   "source": [
    "data = []\n",
    "data.append('Class')\n",
    "data.append('Object Number')\n",
    "data.append('Area_M01')\n",
    "data.append('Area_M03')\n",
    "data.append('Area_M04')\n",
    "data.append('Area_M06')\n",
    "data.append('Area_M07')\n",
    "data.append('Area_M09')\n",
    "# data.append('Area_M02')\n",
    "# data.append('Area_M11')\n",
    "data.append('Aspect Ratio_M01')\n",
    "data.append('Aspect Ratio_M06')\n",
    "data.append('Aspect Ratio_M09')\n",
    "data.append('Modulation_M02_Ch02')\n",
    "data.append('Modulation_M03_Ch03')\n",
    "data.append('Modulation_M07_Ch07')\n",
    "# data.append('Modulation_M04_Ch04')\n",
    "# data.append('Modulation_M11_Ch11')\n",
    "data.append('Intensity_MC_Ch02')\n",
    "data.append('Intensity_MC_Ch07')\n",
    "# data.append('Intensity_MC_Ch03')\n",
    "# data.append('Intensity_MC_Ch04')\n",
    "# data.append('Intensity_MC_Ch11')\n",
    "data\n",
    "filtered_db = unfiltered_db[data]\n",
    "#     if idx%100==0:\n",
    "#         sys.stdout.write(str(idx) + '\\r')\n",
    "#         sys.stdout.flush()\n",
    "# print([column for column in filtered_db.columns])"
   ]
  },
  {
   "cell_type": "markdown",
   "metadata": {},
   "source": [
    "## Fig. 2C: What features can predict age (without ch 04, ch 11)\n"
   ]
  },
  {
   "cell_type": "code",
   "execution_count": 169,
   "metadata": {},
   "outputs": [
    {
     "name": "stdout",
     "output_type": "stream",
     "text": [
      "Feature Importances:\n",
      "Intensity_MC_Ch02 0.189\n",
      "Modulation_M02_Ch02 0.131\n",
      "Aspect Ratio_M06 0.076\n",
      "Modulation_M07_Ch07 0.073\n",
      "Intensity_MC_Ch07 0.066\n",
      "Modulation_M03_Ch03 0.066\n",
      "Aspect Ratio_M01 0.065\n",
      "Area_M03 0.062\n",
      "Aspect Ratio_M09 0.062\n",
      "Area_M06 0.059\n",
      "Area_M01 0.055\n",
      "Area_M09 0.054\n",
      "Area_M07 0.045\n",
      "Cross-validation Score: 0.662497020126\n"
     ]
    }
   ],
   "source": [
    "new_db = filtered_db\n",
    "#When I was calling this function, it wasn't actually doing anything. No wonder we were getting \n",
    "#such crappy accuracies. \n",
    "new_db = new_db.sample(frac=1)\n",
    "\n",
    "# Create the outputs Class \n",
    "Y = new_db.Class.to_numpy()\n",
    "Y = Y>0 # young =1 old = 0\n",
    "\n",
    "X = new_db.drop(['Class', 'Object Number',], axis=1)\n",
    "# X = X.drop([i for i in X.columns if \"Bkgd Mean\" in i] , axis=1)\n",
    "# X = X.drop([i for i in X.columns if \"01\" in i] , axis=1)\n",
    "# X = X.drop([i for i in X.columns if \"09\" in i] , axis=1)\n",
    "# X = X.drop([i for i in X.columns if \"06\" in i] , axis=1)\n",
    "X = X.drop([i for i in X.columns if \"04\" in i] , axis=1)\n",
    "X = X.drop([i for i in X.columns if \"11\" in i] , axis=1)\n",
    "\n",
    "#This should drop nothing. \n",
    "X = X.drop(X.columns[X.isna().any()].tolist(), axis=1)\n",
    "\n",
    "# train a classifier on all the data\n",
    "clf = DecisionTreeClassifier(criterion='entropy')\n",
    "sol = clf.fit(X.to_numpy(),Y.astype('int'))\n",
    "\n",
    "# Print out the feature importances\n",
    "print('Feature Importances:')\n",
    "imp = sol.feature_importances_\n",
    "features = {}\n",
    "for i in range(0,X.shape[1]):\n",
    "    print(X.columns[np.argmax(imp)] + ' ' + '{:0.3f}'.format(np.max(imp)))\n",
    "    features[X.columns[np.argmax(imp)]] = np.max(imp)\n",
    "    imp[np.argmax(imp)] = 0\n",
    "    \n",
    "# Print the crossvalidation score:\n",
    "s = cross_val_score(clf, X.to_numpy(), Y.astype('int'), cv=20, n_jobs=-1)\n",
    "print('Cross-validation Score: ' + str(np.mean(s)))\n",
    "\n",
    "# Plot a graph with all the features\n",
    "# sorted_d = OrderedDict(sorted(features.items(), key=lambda x: x[1]))\n",
    "# names = list(sorted_d.keys())\n",
    "# values = list(sorted_d.values())\n",
    "\n",
    "# df = pd.DataFrame(list(zip(values,names))).set_index(1)\n",
    "\n",
    "# df.plot.line(rot=90)\n",
    "\n",
    "features_1 = features"
   ]
  },
  {
   "cell_type": "markdown",
   "metadata": {},
   "source": [
    "## Fig. 2D, 2E, 3G: Rug plots\n",
    "\n",
    "## Means, Variances and mann-whitney tests"
   ]
  },
  {
   "cell_type": "code",
   "execution_count": 170,
   "metadata": {},
   "outputs": [
    {
     "name": "stdout",
     "output_type": "stream",
     "text": [
      "Old\n",
      "\n",
      "Intensity CD63\n",
      "Mean: 36.65 Variance: 716.47\n",
      "\n",
      "Intensity CD81\n",
      "Mean: 0.71 Variance: 0.89\n",
      "\n",
      "Intensity KL\n",
      "Mean: 32.52 Variance: 1259.44\n",
      "\n",
      "Young\n",
      "\n",
      "Intensity CD63\n",
      "Mean: 33.06 Variance: 246.56\n",
      "\n",
      "Intensity CD81\n",
      "Mean: 0.82 Variance: 1.71\n",
      "\n",
      "Intensity KL\n",
      "Mean: 36.43 Variance: 2271.40\n",
      "\n",
      "Mann Whitney U Test Resuts:\n",
      "Intensity CD63: 9.88781882134e-05\n",
      "Intensity CD81: 1.0340211297e-05\n",
      "Intensity KL: 1.0683569516e-10\n"
     ]
    }
   ],
   "source": [
    "points_young = analysis.points_young\n",
    "points_old = analysis.points_old\n",
    "hist_range = [[0,150],[0,150],[0,25],[0,2000],[0,10000],[0,100]]\n",
    "# hist_range = []\n",
    "dist = analysis.getTotalIntensityDistribution(plots_on=False)\n",
    "\n",
    "labels = ['Intensity CD63', 'Intensity CD81']\n",
    "KL_intensities = {}\n",
    "for key in dist:\n",
    "    print (key)\n",
    "    for i,label in enumerate(labels):\n",
    "        print('\\n' + label)\n",
    "        print('Mean: {0:.2f} Variance: {1:.2f}'.format(dist[key]['Mean'][i],dist[key]['Var'][i]))\n",
    "    KL_intensities[key] = eval('points_' + key.lower()+ '[:,2]') + eval('+ points_' + key.lower() + '[:,3]')\n",
    "    print('\\nIntensity KL')\n",
    "    print('Mean: {0:.2f} Variance: {1:.2f}\\n'.format(np.mean(KL_intensities[key]), np.var(KL_intensities[key])))\n",
    "            \n",
    "\n",
    "        \n",
    "from scipy.stats import mannwhitneyu\n",
    "print ('Mann Whitney U Test Resuts:')\n",
    "labels = ['Intensity CD63', 'Intensity CD81', 'Intensity KL']\n",
    "for i,label in enumerate(labels):\n",
    "    young = points_young[:,i]\n",
    "    old = points_old[:,i]\n",
    "    print(label + ': ' +  str(mannwhitneyu(young, old)[1]))\n"
   ]
  },
  {
   "cell_type": "markdown",
   "metadata": {},
   "source": [
    "### Rug Plot of CD63:"
   ]
  },
  {
   "cell_type": "code",
   "execution_count": 171,
   "metadata": {},
   "outputs": [
    {
     "data": {
      "image/png": "[encoded data removed]",
      "text/plain": [
       "<matplotlib.figure.Figure at 0x7f3bd3a232d0>"
      ]
     },
     "metadata": {
      "needs_background": "light"
     },
     "output_type": "display_data"
    }
   ],
   "source": [
    "labels = ['Intensity CD63', 'Intensity CD81', 'Intensity KL','Intensity AltKL', 'Size CD63', 'Size CD81', 'Size KL']\n",
    "i = 0\n",
    "plt.figure()\n",
    "sns.distplot(points_young[:,i],hist=False,rug=True,rug_kws={'height':0.1})\n",
    "sns.distplot(points_old[:,i],hist=False,rug=True,rug_kws={'height':0.05})\n",
    "plt.legend(['Young', 'Old'])\n",
    "plt.title(labels[i])\n",
    "plt.tight_layout()\n",
    "plt.savefig('../generated_figures/cd63_rug_plt.eps', format='eps')\n",
    "plt.show()\n"
   ]
  },
  {
   "cell_type": "markdown",
   "metadata": {},
   "source": [
    "### Rug Plot of CD81"
   ]
  },
  {
   "cell_type": "code",
   "execution_count": 172,
   "metadata": {},
   "outputs": [
    {
     "data": {
      "image/png": "[encoded data removed]",
      "text/plain": [
       "<matplotlib.figure.Figure at 0x7f3bbae15d50>"
      ]
     },
     "metadata": {
      "needs_background": "light"
     },
     "output_type": "display_data"
    }
   ],
   "source": [
    "labels = ['Intensity CD63', 'Intensity CD81', 'Intensity KL','Intensity AltKL', 'Size CD63', 'Size CD81', 'Size KL']\n",
    "i = 1\n",
    "plt.figure()\n",
    "sns.distplot(points_young[:,i],hist=False,rug=True,rug_kws={'height':0.1})\n",
    "sns.distplot(points_old[:,i],hist=False,rug=True,rug_kws={'height':0.05})\n",
    "plt.legend(['Young', 'Old'])\n",
    "plt.title(labels[i])\n",
    "plt.tight_layout()\n",
    "p = plt.savefig('../generated_figures/cd81_rug_plt.eps', format='eps')\n",
    "p = plt.show()"
   ]
  },
  {
   "cell_type": "markdown",
   "metadata": {},
   "source": [
    "### Rug plot of KLotho"
   ]
  },
  {
   "cell_type": "code",
   "execution_count": 173,
   "metadata": {},
   "outputs": [
    {
     "data": {
      "image/png": "[encoded data removed]",
      "text/plain": [
       "<matplotlib.figure.Figure at 0x7f3bd3a384d0>"
      ]
     },
     "metadata": {
      "needs_background": "light"
     },
     "output_type": "display_data"
    }
   ],
   "source": [
    "labels = ['Intensity CD63', 'Intensity CD81', 'Intensity KL','Intensity AltKL', 'Size CD63', 'Size CD81', 'Size KL']\n",
    "i = 1\n",
    "fig = plt.figure()\n",
    "sns.distplot(KL_intensities['Young'],hist=False,rug=True,rug_kws={'height':0.1})\n",
    "sns.distplot(KL_intensities['Old'],hist=False,rug=True,rug_kws={'height':0.05})\n",
    "plt.legend(['Young', 'Old'])\n",
    "plt.title('Intensity KL')\n",
    "plt.tight_layout()\n",
    "plt.savefig('../generated_figures/KL_rug_plt.eps', format='eps')\n",
    "plt.show()"
   ]
  },
  {
   "cell_type": "markdown",
   "metadata": {},
   "source": [
    "## Fig. 3I: What features predict ch11 and ch4 activation? Both are Klotho but different forms of it. \n",
    "\n",
    "### Ch11"
   ]
  },
  {
   "cell_type": "code",
   "execution_count": 174,
   "metadata": {
    "scrolled": true
   },
   "outputs": [
    {
     "name": "stdout",
     "output_type": "stream",
     "text": [
      "Feature Importances:\n",
      "Aspect Ratio_M01 0.000\n",
      "Intensity_MC_Ch07 0.001\n",
      "Area_M09 -0.000\n",
      "Aspect Ratio_M06 0.000\n",
      "Area_M07 0.002\n",
      "Area_M06 -0.001\n",
      "Intensity_MC_Ch02 0.001\n",
      "Area_M03 0.000\n",
      "Area_M01 -0.001\n",
      "Aspect Ratio_M09 0.000\n",
      "Modulation_M07_Ch07 0.005\n",
      "Modulation_M02_Ch02 0.005\n",
      "Modulation_M03_Ch03 0.023\n",
      "Cross-validation Score: -4.42608342377e-05\n",
      "Cross-validation Score Var: 2.86043960912e-10\n"
     ]
    }
   ],
   "source": [
    "new_db = filtered_db\n",
    "#When I was calling this function, it wasn't actually doing anything. No wonder we were getting \n",
    "#such crappy accuracies. \n",
    "new_db = new_db.sample(frac=1)\n",
    "\n",
    "# Create the outputs Class \n",
    "Y = unfiltered_db.Intensity_MC_Ch11.to_numpy()\n",
    "# Y = Y>0 # ch11> = 1, ch11< = 0\n",
    "# print(np.count_nonzero(Y))\n",
    "X = new_db.drop(['Class', 'Object Number',], axis=1)\n",
    "# X = X.drop([i for i in X.columns if \"Bkgd Mean\" in i] , axis=1)\n",
    "# X = X.drop([i for i in X.columns if \"Aspect Ratio_M02\" in i] , axis=1)\n",
    "# X = X.drop([i for i in X.columns if \"09\" in i] , axis=1)\n",
    "X = X.drop([i for i in X.columns if \"04\" in i] , axis=1)\n",
    "X = X.drop([i for i in X.columns if \"11\" in i] , axis=1)\n",
    "\n",
    "#This should drop nothing. \n",
    "X = X.drop(X.columns[X.isna().any()].tolist(), axis=1)\n",
    "\n",
    "# Min Max scaler to normalize all data:\n",
    "min_max_scaler = preprocessing.MinMaxScaler()\n",
    "x_scaled = min_max_scaler.fit_transform(X.to_numpy())\n",
    "y_scaled = Y/np.linalg.norm(Y)\n",
    "# train a classifier on all the data\n",
    "# clf = DecisionTreeClassifier(criterion='entropy')\n",
    "reg = LinearRegression()\n",
    "sol = reg.fit(x_scaled,y_scaled)\n",
    "\n",
    "# Print out the feature importances\n",
    "print('Feature Importances:')\n",
    "imp = sol.coef_\n",
    "features = {}\n",
    "features = dict(zip(X.columns,sol.coef_))\n",
    "\n",
    "# for i in range(0,X.shape[1]):\n",
    "#     print(X.columns[np.argmax(imp)] + ' ' + '{:0.3f}'.format(np.max(imp)))\n",
    "#     features[X.columns[np.argmax(imp)]] = np.max(imp)\n",
    "#     imp[np.argmax(imp)] = 0\n",
    "for key,value in features.items():\n",
    "    print(key + ' ' + '{:0.3f}'.format(value))\n",
    "    \n",
    "    \n",
    "# Print the crossvalidation score:\n",
    "s = cross_val_score(reg, x_scaled, y_scaled, cv=10, n_jobs=-1, scoring='neg_mean_squared_error')\n",
    "print('Cross-validation Score: ' + str(np.mean(s)))\n",
    "print('Cross-validation Score Var: ' + str(np.var(s)))\n",
    "\n",
    "# # Plot a graph with all the features\n",
    "sorted_d = OrderedDict(sorted(features.items(), key=lambda x: x[1]))\n",
    "names = list(sorted_d.keys())\n",
    "values = list(sorted_d.values())\n",
    "\n",
    "# df = pd.DataFrame(list(zip(values,names))).set_index(1)\n",
    "\n",
    "# df.plot.line(rot=90)\n",
    "\n",
    "features_2 = features"
   ]
  },
  {
   "cell_type": "markdown",
   "metadata": {},
   "source": [
    "### Ch04 + Ch11"
   ]
  },
  {
   "cell_type": "code",
   "execution_count": 175,
   "metadata": {},
   "outputs": [
    {
     "name": "stdout",
     "output_type": "stream",
     "text": [
      "Feature Importances:\n",
      "Aspect Ratio_M01 0.000\n",
      "Intensity_MC_Ch07 0.000\n",
      "Area_M09 0.002\n",
      "Aspect Ratio_M06 0.001\n",
      "Area_M07 -0.001\n",
      "Area_M06 -0.001\n",
      "Intensity_MC_Ch02 0.001\n",
      "Area_M03 -0.000\n",
      "Area_M01 -0.001\n",
      "Aspect Ratio_M09 0.000\n",
      "Modulation_M07_Ch07 -0.002\n",
      "Modulation_M02_Ch02 -0.009\n",
      "Modulation_M03_Ch03 -0.006\n",
      "Cross-validation Score: -4.5346970994e-05\n",
      "Cross-validation Score Var: 2.43514311146e-10\n"
     ]
    }
   ],
   "source": [
    "new_db = filtered_db\n",
    "#When I was calling this function, it wasn't actually doing anything. No wonder we were getting \n",
    "#such crappy accuracies. \n",
    "new_db = new_db.sample(frac=1)\n",
    "\n",
    "# Create the outputs Class \n",
    "Y = unfiltered_db.Intensity_MC_KL.to_numpy()\n",
    "# Y = Y>0 # ch04> = 1, ch04< = 0\n",
    "X = new_db.drop(['Class', 'Object Number',], axis=1)\n",
    "# X = X.drop([i for i in X.columns if \"Bkgd Mean\" in i] , axis=1)\n",
    "# X = X.drop([i for i in X.columns if \"01\" in i] , axis=1)\n",
    "# X = X.drop([i for i in X.columns if \"09\" in i] , axis=1)\n",
    "# X = X.drop([i for i in X.columns if \"06\" in i] , axis=1)\n",
    "X = X.drop([i for i in X.columns if \"04\" in i] , axis=1)\n",
    "X = X.drop([i for i in X.columns if \"11\" in i] , axis=1)\n",
    "\n",
    "#This should drop nothing. \n",
    "X = X.drop(X.columns[X.isna().any()].tolist(), axis=1)\n",
    "\n",
    "# # train a classifier on all the data\n",
    "# clf = DecisionTreeClassifier(criterion='entropy')\n",
    "# sol = clf.fit(X.to_numpy(),Y.astype('int'))\n",
    "\n",
    "min_max_scaler = preprocessing.MinMaxScaler()\n",
    "x_scaled = min_max_scaler.fit_transform(X.to_numpy())\n",
    "y_scaled = Y/np.linalg.norm(Y)\n",
    "# Print out the feature importances\n",
    "reg = LinearRegression()\n",
    "sol = reg.fit(x_scaled,y_scaled)\n",
    "# Print out the feature importances\n",
    "print('Feature Importances:')\n",
    "imp = sol.coef_\n",
    "features = dict(zip(X.columns, sol.coef_))\n",
    "for key,value in features.items():\n",
    "    print(key + ' ' + '{:0.3f}'.format(value))\n",
    "\n",
    "# for i in range(0,10):\n",
    "#     print(X.columns[np.argmax(imp)] + ' ' + '{:0.3f}'.format(np.max(imp)))\n",
    "#     features[X.columns[np.argmax(imp)]] = np.max(imp)\n",
    "#     imp[np.argmax(imp)] = 0\n",
    "    \n",
    "# Print the crossvalidation score:\n",
    "s = cross_val_score(reg, x_scaled, y_scaled,cv=10, n_jobs=-1, scoring='neg_mean_squared_error')\n",
    "print('Cross-validation Score: ' + str(np.mean(s)))\n",
    "print('Cross-validation Score Var: ' + str(np.var(s)))\n",
    "\n",
    "# # Plot a graph with all the features\n",
    "sorted_d = OrderedDict(sorted(features.items(), key=lambda x: x[1]))\n",
    "names = list(sorted_d.keys())\n",
    "values = list(sorted_d.values())\n",
    "# plt.figure()\n",
    "# plt.bar(names, values)\n",
    "# plt.xticks(rotation=90)\n",
    "# plt.show()\n",
    "# df = pd.DataFrame(list(zip(values,names))).set_index(1)\n",
    "\n",
    "# df.plot.line(rot=90)\n",
    "features_3 = features"
   ]
  },
  {
   "cell_type": "markdown",
   "metadata": {},
   "source": [
    "## Fig. 3J: Correlation between ch7 and ch11. "
   ]
  },
  {
   "cell_type": "code",
   "execution_count": 176,
   "metadata": {},
   "outputs": [
    {
     "data": {
      "image/png": "[encoded data removed]",
      "text/plain": [
       "<matplotlib.figure.Figure at 0x7f3bd3533dd0>"
      ]
     },
     "metadata": {
      "needs_background": "light"
     },
     "output_type": "display_data"
    },
    {
     "data": {
      "image/png": "[encoded data removed]",
      "text/plain": [
       "<matplotlib.figure.Figure at 0x7f3bbaeafb90>"
      ]
     },
     "metadata": {
      "needs_background": "light"
     },
     "output_type": "display_data"
    },
    {
     "name": "stdout",
     "output_type": "stream",
     "text": [
      "Young Pearson's correlation coefficient\n",
      "[[ 1.          0.42323693]\n",
      " [ 0.42323693  1.        ]]\n",
      "Old Pearson's correlation coefficient\n",
      "[[ 1.          0.47261576]\n",
      " [ 0.47261576  1.        ]]\n"
     ]
    }
   ],
   "source": [
    "new_db = unfiltered_db\n",
    "plt.figure()\n",
    "young_ch7_intensity = new_db[(new_db.Class ==1)].Intensity_MC_Ch07\n",
    "young_kl_intensity = new_db[(new_db.Class==1)].Intensity_MC_KL\n",
    "old_ch7_intensity = new_db[(new_db.Class ==0)].Intensity_MC_Ch07\n",
    "old_kl_intensity = new_db[(new_db.Class==0)].Intensity_MC_KL\n",
    "\n",
    "plt.plot(young_ch7_intensity, young_kl_intensity, '.')\n",
    "plt.plot(old_ch7_intensity, old_kl_intensity,'.')\n",
    "plt.legend(['young', 'old'])\n",
    "plt.xlabel('CD83')\n",
    "plt.ylabel('KL')\n",
    "plt.show()\n",
    "# thought I should sperate these plots out. \n",
    "plt.subplot(2,1,1)\n",
    "plt.plot(young_ch7_intensity, young_kl_intensity, '.')\n",
    "plt.xlabel('CD83 Young')\n",
    "plt.ylabel('KL Young')\n",
    "plt.subplot(2,1,2)\n",
    "plt.plot(old_ch7_intensity, old_kl_intensity,'.')\n",
    "plt.xlabel('CD83 Old')\n",
    "plt.ylabel('KL Old')\n",
    "# plt.legend(['young', 'old'])\n",
    "plt.show()\n",
    "# Pearson's correlation coefficient\n",
    "print(\"Young Pearson's correlation coefficient\")\n",
    "print(np.corrcoef(young_ch7_intensity, young_kl_intensity))\n",
    "print(\"Old Pearson's correlation coefficient\")\n",
    "print(np.corrcoef(old_ch7_intensity, old_kl_intensity))\n"
   ]
  },
  {
   "cell_type": "markdown",
   "metadata": {},
   "source": [
    "### Fig. 3K: Heat map for classifiers"
   ]
  },
  {
   "cell_type": "code",
   "execution_count": 184,
   "metadata": {},
   "outputs": [
    {
     "data": {
      "image/png": "[encoded data removed]",
      "text/plain": [
       "<matplotlib.figure.Figure at 0x7f3bd37d3050>"
      ]
     },
     "metadata": {
      "needs_background": "light"
     },
     "output_type": "display_data"
    },
    {
     "data": {
      "text/html": [
       "<div>\n",
       "<style scoped>\n",
       "    .dataframe tbody tr th:only-of-type {\n",
       "        vertical-align: middle;\n",
       "    }\n",
       "\n",
       "    .dataframe tbody tr th {\n",
       "        vertical-align: top;\n",
       "    }\n",
       "\n",
       "    .dataframe thead th {\n",
       "        text-align: right;\n",
       "    }\n",
       "</style>\n",
       "<table border=\"1\" class=\"dataframe\">\n",
       "  <thead>\n",
       "    <tr style=\"text-align: right;\">\n",
       "      <th></th>\n",
       "      <th>Age Prediction</th>\n",
       "      <th>Kl Reg.</th>\n",
       "      <th>Kl + AltKl Reg.</th>\n",
       "    </tr>\n",
       "    <tr>\n",
       "      <th>Features</th>\n",
       "      <th></th>\n",
       "      <th></th>\n",
       "      <th></th>\n",
       "    </tr>\n",
       "  </thead>\n",
       "  <tbody>\n",
       "    <tr>\n",
       "      <th>Aspect Ratio_M01</th>\n",
       "      <td>0.133771</td>\n",
       "      <td>0.048605</td>\n",
       "      <td>0.853611</td>\n",
       "    </tr>\n",
       "    <tr>\n",
       "      <th>Intensity_MC_Ch07</th>\n",
       "      <td>0.141383</td>\n",
       "      <td>0.077436</td>\n",
       "      <td>0.850888</td>\n",
       "    </tr>\n",
       "    <tr>\n",
       "      <th>Area_M09</th>\n",
       "      <td>0.057493</td>\n",
       "      <td>0.042531</td>\n",
       "      <td>1.000000</td>\n",
       "    </tr>\n",
       "    <tr>\n",
       "      <th>Aspect Ratio_M06</th>\n",
       "      <td>0.213512</td>\n",
       "      <td>0.048864</td>\n",
       "      <td>0.896423</td>\n",
       "    </tr>\n",
       "    <tr>\n",
       "      <th>Aspect Ratio_M09</th>\n",
       "      <td>0.113272</td>\n",
       "      <td>0.051690</td>\n",
       "      <td>0.861744</td>\n",
       "    </tr>\n",
       "    <tr>\n",
       "      <th>Area_M06</th>\n",
       "      <td>0.096245</td>\n",
       "      <td>0.003563</td>\n",
       "      <td>0.705206</td>\n",
       "    </tr>\n",
       "    <tr>\n",
       "      <th>Intensity_MC_Ch02</th>\n",
       "      <td>1.000000</td>\n",
       "      <td>0.079775</td>\n",
       "      <td>0.949174</td>\n",
       "    </tr>\n",
       "    <tr>\n",
       "      <th>Area_M03</th>\n",
       "      <td>0.116888</td>\n",
       "      <td>0.061250</td>\n",
       "      <td>0.820799</td>\n",
       "    </tr>\n",
       "    <tr>\n",
       "      <th>Area_M01</th>\n",
       "      <td>0.063691</td>\n",
       "      <td>0.000000</td>\n",
       "      <td>0.794738</td>\n",
       "    </tr>\n",
       "    <tr>\n",
       "      <th>Modulation_M07_Ch07</th>\n",
       "      <td>0.190347</td>\n",
       "      <td>0.244292</td>\n",
       "      <td>0.694158</td>\n",
       "    </tr>\n",
       "    <tr>\n",
       "      <th>Modulation_M02_Ch02</th>\n",
       "      <td>0.595423</td>\n",
       "      <td>0.254360</td>\n",
       "      <td>0.000000</td>\n",
       "    </tr>\n",
       "    <tr>\n",
       "      <th>Modulation_M03_Ch03</th>\n",
       "      <td>0.140817</td>\n",
       "      <td>1.000000</td>\n",
       "      <td>0.308216</td>\n",
       "    </tr>\n",
       "    <tr>\n",
       "      <th>Area_M07</th>\n",
       "      <td>0.000000</td>\n",
       "      <td>0.125352</td>\n",
       "      <td>0.742854</td>\n",
       "    </tr>\n",
       "  </tbody>\n",
       "</table>\n",
       "</div>"
      ],
      "text/plain": [
       "                     Age Prediction   Kl Reg.  Kl + AltKl Reg.\n",
       "Features                                                      \n",
       "Aspect Ratio_M01           0.133771  0.048605         0.853611\n",
       "Intensity_MC_Ch07          0.141383  0.077436         0.850888\n",
       "Area_M09                   0.057493  0.042531         1.000000\n",
       "Aspect Ratio_M06           0.213512  0.048864         0.896423\n",
       "Aspect Ratio_M09           0.113272  0.051690         0.861744\n",
       "Area_M06                   0.096245  0.003563         0.705206\n",
       "Intensity_MC_Ch02          1.000000  0.079775         0.949174\n",
       "Area_M03                   0.116888  0.061250         0.820799\n",
       "Area_M01                   0.063691  0.000000         0.794738\n",
       "Modulation_M07_Ch07        0.190347  0.244292         0.694158\n",
       "Modulation_M02_Ch02        0.595423  0.254360         0.000000\n",
       "Modulation_M03_Ch03        0.140817  1.000000         0.308216\n",
       "Area_M07                   0.000000  0.125352         0.742854"
      ]
     },
     "execution_count": 184,
     "metadata": {},
     "output_type": "execute_result"
    }
   ],
   "source": [
    "heat_map = pd.DataFrame.from_dict(features_1, orient='index', columns=['Age Prediction'])\n",
    "heat_map.index.name = 'Features'\n",
    "heat_map['Kl Reg.'] = heat_map.index.map(features_2)\n",
    "heat_map['Kl + AltKl Reg.'] = heat_map.index.map(features_3)\n",
    "\n",
    "heat_map = heat_map.apply(lambda x: (x-x.min())/(x.max()-x.min()), axis=0)\n",
    "\n",
    "plt.figure()\n",
    "plt.pcolor(heat_map)\n",
    "plt.yticks(np.arange(0.5, len(heat_map.index), 1), heat_map.index)\n",
    "plt.xticks(np.arange(0.5, len(heat_map.columns), 1), heat_map.columns)\n",
    "plt.savefig('../generated_figures/heat_map.eps',format='eps')\n",
    "plt.show()\n",
    "heat_map"
   ]
  }
 ],
 "metadata": {
  "kernelspec": {
   "display_name": "Python 3",
   "language": "python",
   "name": "python3"
  },
  "language_info": {
   "codemirror_mode": {
    "name": "ipython",
    "version": 2
   },
   "file_extension": ".py",
   "mimetype": "text/x-python",
   "name": "python",
   "nbconvert_exporter": "python",
   "pygments_lexer": "ipython2",
   "version": "2.7.17"
  }
 },
 "nbformat": 4,
 "nbformat_minor": 2
}
